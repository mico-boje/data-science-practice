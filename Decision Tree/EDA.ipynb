{
 "cells": [
  {
   "cell_type": "code",
   "execution_count": 2,
   "metadata": {},
   "outputs": [],
   "source": [
    "import numpy as np\n",
    "import pandas as pd\n",
    "import matplotlib.pyplot as plt\n",
    "import seaborn as sns\n",
    "from sklearn.linear_model import LogisticRegression\n",
    "from sklearn.model_selection import train_test_split\n"
   ]
  },
  {
   "cell_type": "code",
   "execution_count": 3,
   "metadata": {},
   "outputs": [
    {
     "name": "stdout",
     "output_type": "stream",
     "text": [
      "<class 'pandas.core.frame.DataFrame'>\n",
      "RangeIndex: 303 entries, 0 to 302\n",
      "Data columns (total 15 columns):\n",
      " #   Column                Non-Null Count  Dtype  \n",
      "---  ------                --------------  -----  \n",
      " 0   Unnamed: 0            303 non-null    int64  \n",
      " 1   alder                 303 non-null    int64  \n",
      " 2   køn                   303 non-null    object \n",
      " 3   type_bryst_smerte     303 non-null    object \n",
      " 4   blodtryk_hvile        303 non-null    int64  \n",
      " 5   kolesterol            303 non-null    int64  \n",
      " 6   blodsukker_faste      303 non-null    object \n",
      " 7   ekg_hvile             303 non-null    object \n",
      " 8   max_hjerterytme       303 non-null    int64  \n",
      " 9   angina_ved_træning    303 non-null    object \n",
      " 10  st_depresion          303 non-null    float64\n",
      " 11  st_segment            303 non-null    object \n",
      " 12  blodkar_fluoroskopi   303 non-null    int64  \n",
      " 13  thallium_stress_test  303 non-null    object \n",
      " 14  target                303 non-null    int64  \n",
      "dtypes: float64(1), int64(7), object(7)\n",
      "memory usage: 35.6+ KB\n"
     ]
    }
   ],
   "source": [
    "df = pd.read_csv(r'C:\\Users\\mico-\\Documents\\Data Science\\data-science-practice\\Decision Tree\\processed_data.csv')\n",
    "original_df = pd.read_csv(r'C:\\Users\\mico-\\Documents\\Data Science\\data-science-practice\\Decision Tree\\heart.csv')\n",
    "df.info()"
   ]
  },
  {
   "cell_type": "code",
   "execution_count": 58,
   "metadata": {},
   "outputs": [
    {
     "data": {
      "image/png": "[encoded data removed]",
      "text/plain": [
       "<Figure size 432x288 with 1 Axes>"
      ]
     },
     "metadata": {
      "needs_background": "light"
     },
     "output_type": "display_data"
    }
   ],
   "source": [
    "sns_plot = sns.countplot(x='target', data=df, palette='bwr')\n",
    "fig = sns_plot.get_figure()\n",
    "fig.savefig(r\"C:\\Users\\mico-\\Documents\\Data Science\\data-science-practice\\Decision Tree\\Target.png\")"
   ]
  },
  {
   "cell_type": "code",
   "execution_count": 5,
   "metadata": {},
   "outputs": [
    {
     "name": "stdout",
     "output_type": "stream",
     "text": [
      "Procentdel af patienter med hjertesygdom: 45.54%\n",
      "Procentdel af patienter uden hjertesygdom: 54.46%\n"
     ]
    }
   ],
   "source": [
    "countNoDisease = len(df[df.target == 0])\n",
    "countHaveDisease = len(df[df.target == 1])\n",
    "print(\"Procentdel af patienter med hjertesygdom: {:.2f}%\".format((countNoDisease / (len(df.target))*100)))\n",
    "print(\"Procentdel af patienter uden hjertesygdom: {:.2f}%\".format((countHaveDisease / (len(df.target))*100)))\n",
    "#Vi ser at der er tæt på en lige fordeling mellem patienter med og uden hjertsygdomme, hvilket er vigtig for modellens præsicion"
   ]
  },
  {
   "cell_type": "code",
   "execution_count": 17,
   "metadata": {},
   "outputs": [
    {
     "data": {
      "image/png": "[encoded data removed]",
      "text/plain": [
       "<Figure size 432x288 with 1 Axes>"
      ]
     },
     "metadata": {
      "needs_background": "light"
     },
     "output_type": "display_data"
    }
   ],
   "source": [
    "sns_countplot =sns.countplot(x='køn', data=df, palette=\"mako_r\")\n",
    "plt.xlabel(\"Køn\")\n",
    "plt.show()\n",
    "\n",
    "fig = sns_countplot.get_figure()\n",
    "fig.savefig(r\"C:\\Users\\mico-\\Documents\\Data Science\\data-science-practice\\Decision Tree\\FordelingAfKøn.png\")\n",
    "#Vi ser at der er en meget dårlig fordeling af mænd og kvinder i datasettet, det kan betyde at modellen vægter køns betyding forkert, særligt når det er et lille dataset"
   ]
  },
  {
   "cell_type": "code",
   "execution_count": 18,
   "metadata": {},
   "outputs": [
    {
     "name": "stdout",
     "output_type": "stream",
     "text": [
      "Procentdel af kvindlige patienter: 31.68%\n",
      "Procentdel af mandlige patienter: 68.32%\n"
     ]
    }
   ],
   "source": [
    "countFemale = len(df[df.køn == 'kvinde'])\n",
    "countMale = len(df[df.køn == 'mand'])\n",
    "print(\"Procentdel af kvindlige patienter: {:.2f}%\".format((countFemale / (len(df.køn))*100)))\n",
    "print(\"Procentdel af mandlige patienter: {:.2f}%\".format((countMale / (len(df.køn))*100)))"
   ]
  },
  {
   "cell_type": "code",
   "execution_count": 57,
   "metadata": {},
   "outputs": [
    {
     "data": {
      "image/png": "[encoded data removed]",
      "text/plain": [
       "<Figure size 576x432 with 1 Axes>"
      ]
     },
     "metadata": {
      "needs_background": "light"
     },
     "output_type": "display_data"
    }
   ],
   "source": [
    "f, ax = plt.subplots(figsize=(8, 6))\n",
    "ax = sns.countplot(x=\"køn\", hue=\"target\", data=df)\n",
    "plt.legend([\"Rask\", \"Syg\"])\n",
    "plt.show()\n",
    "\n",
    "fig = ax.get_figure()\n",
    "fig.savefig(r\"C:\\Users\\mico-\\Documents\\Data Science\\data-science-practice\\Decision Tree\\FordelingAfSygdommePåKøn.png\")"
   ]
  },
  {
   "cell_type": "code",
   "execution_count": 55,
   "metadata": {},
   "outputs": [
    {
     "name": "stdout",
     "output_type": "stream",
     "text": [
      "Procentdel af kvindlige patienter med hjertesgydom: 75.00%\n",
      "Procentdel af kvindlige patienter uden hjertesgydom: 25.00%\n",
      "Procentdel af mandlige patienter med hjertesgydom: 44.93%\n",
      "Procentdel af mandlige patienter uden hjertesgydom: 55.07%\n"
     ]
    }
   ],
   "source": [
    "FemalesWithHD = df[(df.køn == 'kvinde') & (df.target == 1)]\n",
    "FemalesWithoutHD = df[(df.køn == 'kvinde') & (df.target == 0)]\n",
    "\n",
    "MalesWithHD = df[(df.køn == 'mand') & (df.target == 1)]\n",
    "MalesWithoutHD = df[(df.køn == 'mand') & (df.target == 0)]\n",
    "\n",
    "countFemale = len(df[df.køn == 'kvinde'])\n",
    "countMale = len(df[df.køn == 'mand'])\n",
    "\n",
    "print(\"Procentdel af kvindlige patienter med hjertesgydom: {:.2f}%\".format((len(FemalesWithHD) / countFemale)*100))\n",
    "print(\"Procentdel af kvindlige patienter uden hjertesgydom: {:.2f}%\".format((len(FemalesWithoutHD) / countFemale)*100))\n",
    "\n",
    "print(\"Procentdel af mandlige patienter med hjertesgydom: {:.2f}%\".format((len(MalesWithHD) / countMale)*100))\n",
    "print(\"Procentdel af mandlige patienter uden hjertesgydom: {:.2f}%\".format((len(MalesWithoutHD) / countMale)*100))"
   ]
  },
  {
   "cell_type": "code",
   "execution_count": 8,
   "metadata": {},
   "outputs": [
    {
     "data": {
      "text/html": [
       "<div>\n",
       "<style scoped>\n",
       "    .dataframe tbody tr th:only-of-type {\n",
       "        vertical-align: middle;\n",
       "    }\n",
       "\n",
       "    .dataframe tbody tr th {\n",
       "        vertical-align: top;\n",
       "    }\n",
       "\n",
       "    .dataframe thead th {\n",
       "        text-align: right;\n",
       "    }\n",
       "</style>\n",
       "<table border=\"1\" class=\"dataframe\">\n",
       "  <thead>\n",
       "    <tr style=\"text-align: right;\">\n",
       "      <th></th>\n",
       "      <th>age</th>\n",
       "      <th>sex</th>\n",
       "      <th>cp</th>\n",
       "      <th>trestbps</th>\n",
       "      <th>chol</th>\n",
       "      <th>fbs</th>\n",
       "      <th>restecg</th>\n",
       "      <th>thalach</th>\n",
       "      <th>exang</th>\n",
       "      <th>oldpeak</th>\n",
       "      <th>slope</th>\n",
       "      <th>ca</th>\n",
       "      <th>thal</th>\n",
       "    </tr>\n",
       "    <tr>\n",
       "      <th>target</th>\n",
       "      <th></th>\n",
       "      <th></th>\n",
       "      <th></th>\n",
       "      <th></th>\n",
       "      <th></th>\n",
       "      <th></th>\n",
       "      <th></th>\n",
       "      <th></th>\n",
       "      <th></th>\n",
       "      <th></th>\n",
       "      <th></th>\n",
       "      <th></th>\n",
       "      <th></th>\n",
       "    </tr>\n",
       "  </thead>\n",
       "  <tbody>\n",
       "    <tr>\n",
       "      <th>0</th>\n",
       "      <td>56.601449</td>\n",
       "      <td>0.826087</td>\n",
       "      <td>0.478261</td>\n",
       "      <td>134.398551</td>\n",
       "      <td>251.086957</td>\n",
       "      <td>0.159420</td>\n",
       "      <td>0.449275</td>\n",
       "      <td>139.101449</td>\n",
       "      <td>0.550725</td>\n",
       "      <td>1.585507</td>\n",
       "      <td>1.166667</td>\n",
       "      <td>1.166667</td>\n",
       "      <td>2.543478</td>\n",
       "    </tr>\n",
       "    <tr>\n",
       "      <th>1</th>\n",
       "      <td>52.496970</td>\n",
       "      <td>0.563636</td>\n",
       "      <td>1.375758</td>\n",
       "      <td>129.303030</td>\n",
       "      <td>242.230303</td>\n",
       "      <td>0.139394</td>\n",
       "      <td>0.593939</td>\n",
       "      <td>158.466667</td>\n",
       "      <td>0.139394</td>\n",
       "      <td>0.583030</td>\n",
       "      <td>1.593939</td>\n",
       "      <td>0.363636</td>\n",
       "      <td>2.121212</td>\n",
       "    </tr>\n",
       "  </tbody>\n",
       "</table>\n",
       "</div>"
      ],
      "text/plain": [
       "              age       sex        cp    trestbps        chol       fbs  \\\n",
       "target                                                                    \n",
       "0       56.601449  0.826087  0.478261  134.398551  251.086957  0.159420   \n",
       "1       52.496970  0.563636  1.375758  129.303030  242.230303  0.139394   \n",
       "\n",
       "         restecg     thalach     exang   oldpeak     slope        ca      thal  \n",
       "target                                                                          \n",
       "0       0.449275  139.101449  0.550725  1.585507  1.166667  1.166667  2.543478  \n",
       "1       0.593939  158.466667  0.139394  0.583030  1.593939  0.363636  2.121212  "
      ]
     },
     "execution_count": 8,
     "metadata": {},
     "output_type": "execute_result"
    }
   ],
   "source": [
    "original_df.groupby('target').mean()"
   ]
  },
  {
   "cell_type": "code",
   "execution_count": 56,
   "metadata": {},
   "outputs": [
    {
     "data": {
      "image/png": "[encoded data removed]",
      "text/plain": [
       "<Figure size 1440x432 with 1 Axes>"
      ]
     },
     "metadata": {
      "needs_background": "light"
     },
     "output_type": "display_data"
    }
   ],
   "source": [
    "ax = pd.crosstab(df.alder,df.target).plot(kind=\"bar\",figsize=(20,6))\n",
    "plt.title('Hjertesygdom fordelt på alder')\n",
    "plt.xlabel('Alder')\n",
    "plt.ylabel('Frekvens')\n",
    "plt.legend([\"Rask\", \"Syg\"])\n",
    "plt.savefig('heartDiseaseAndAges.png')\n",
    "plt.show()\n",
    "\n",
    "\n",
    "fig = ax.get_figure()\n",
    "fig.savefig(r\"C:\\Users\\mico-\\Documents\\Data Science\\data-science-practice\\Decision Tree\\FordelingAfSygdommePåAlder.png\")"
   ]
  },
  {
   "cell_type": "code",
   "execution_count": 10,
   "metadata": {},
   "outputs": [
    {
     "data": {
      "image/png": "[encoded data removed]",
      "text/plain": [
       "<Figure size 1080x432 with 1 Axes>"
      ]
     },
     "metadata": {
      "needs_background": "light"
     },
     "output_type": "display_data"
    }
   ],
   "source": [
    "pd.crosstab(df.køn,df.target).plot(kind=\"bar\",figsize=(15,6),color=['#1CA53B','#AA1111' ])\n",
    "plt.title('Hjertesygdom frekvens fordelt på køn')\n",
    "plt.xlabel('Køn')\n",
    "plt.xticks(rotation=0)\n",
    "plt.legend([\"Rask\", \"Syg\"])\n",
    "plt.ylabel('Frequency')\n",
    "plt.show()\n",
    "#Vi ser en stor over repræsentation af kvinder med hjertesygdomme"
   ]
  },
  {
   "cell_type": "code",
   "execution_count": null,
   "metadata": {},
   "outputs": [],
   "source": []
  }
 ],
 "metadata": {
  "kernelspec": {
   "display_name": "Python 3",
   "language": "python",
   "name": "python3"
  },
  "language_info": {
   "codemirror_mode": {
    "name": "ipython",
    "version": 3
   },
   "file_extension": ".py",
   "mimetype": "text/x-python",
   "name": "python",
   "nbconvert_exporter": "python",
   "pygments_lexer": "ipython3",
   "version": "3.7.6"
  }
 },
 "nbformat": 4,
 "nbformat_minor": 4
}
